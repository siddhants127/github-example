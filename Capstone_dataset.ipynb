{
 "cells": [
  {
   "cell_type": "markdown",
   "metadata": {},
   "source": [
    "## DATA SET\n",
    "\n",
    "    it will be basically foursquare clustering of neighbourhoods to see for community transmission, hotspots,schools,hotels,bars,neighbourhood populated areas, to see how to set up warehouses for products and how to contain the environment.\n",
    "    \n",
    "    I will use and find the best rated users to be leaders as representatives who will control the supply/demand of their respective locations.\n",
    "    \n",
    "    \n",
    "    "
   ]
  }
 ],
 "metadata": {
  "kernelspec": {
   "display_name": "Python",
   "language": "python",
   "name": "conda-env-python-py"
  },
  "language_info": {
   "codemirror_mode": {
    "name": "ipython",
    "version": 3
   },
   "file_extension": ".py",
   "mimetype": "text/x-python",
   "name": "python",
   "nbconvert_exporter": "python",
   "pygments_lexer": "ipython3",
   "version": "3.6.10"
  }
 },
 "nbformat": 4,
 "nbformat_minor": 4
}
