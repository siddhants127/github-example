{
 "cells": [
  {
   "cell_type": "markdown",
   "metadata": {},
   "source": [
    "### CAPSTONE PROJECT :introduction\n",
    "\n",
    "    in these hard times covid-19 will affect every human once in its lifetime, more worse will be the community transmission and the way to tackle the community transmission and hospitality issues we could face.\n",
    "\n",
    "## TORONTO CRISIS\n",
    "\n",
    "    Here we will actually focus on the rate of transmission in the neighbourhood and making the patients home quarantined and lock down the neighbourhood and provide the necessary products through shops, bars,malls, hotels etc. Extra malls, hotels, schools could become the quarantine locations for treating the people. locations of the nearest hospitals warehouse for storage , travelling accomodations will be decided to deliver a solution for long term relaibility. \n",
    "    \n",
    "# Financial benifit to companies\n",
    "\n",
    "    we can identify the locations in need of the products like sanitizers,masks,gloves  and boost the production/delivery to these areas to encourage cleanliness to make them independent so as to make this lockdown bearable. The products can be made mandatory so as to make sure the products are used and create isolation pods for defaulters(schools,libraries,shops).\n",
    "    using foursqaure i will decide the hotspots for patients and create warehouses for products and commodities."
   ]
  },
  {
   "cell_type": "code",
   "execution_count": null,
   "metadata": {},
   "outputs": [],
   "source": []
  }
 ],
 "metadata": {
  "kernelspec": {
   "display_name": "Python",
   "language": "python",
   "name": "conda-env-python-py"
  },
  "language_info": {
   "codemirror_mode": {
    "name": "ipython",
    "version": 3
   },
   "file_extension": ".py",
   "mimetype": "text/x-python",
   "name": "python",
   "nbconvert_exporter": "python",
   "pygments_lexer": "ipython3",
   "version": "3.6.10"
  }
 },
 "nbformat": 4,
 "nbformat_minor": 4
}
